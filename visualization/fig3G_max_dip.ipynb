{
 "cells": [
  {
   "cell_type": "code",
   "execution_count": 1,
   "id": "25d15e5c-d3fa-4d40-a941-962edf363afc",
   "metadata": {},
   "outputs": [],
   "source": [
    "import numpy as np\n",
    "import pickle\n",
    "import matplotlib.pylab as plt\n",
    "import seaborn as sns\n",
    "import colorcet as cc\n",
    "from pathlib import Path\n",
    "import sys\n",
    "\n",
    "sys.path.append('../')\n",
    "\n",
    "from visualization_utils import *\n",
    "from utils import *"
   ]
  },
  {
   "cell_type": "code",
   "execution_count": 2,
   "id": "929a497b-090f-4616-b7e3-b51970cf3dfe",
   "metadata": {},
   "outputs": [],
   "source": [
    "data_path = '../data/synthetic_data/'\n",
    "gmm_path = '../data/ari_synthetic/'"
   ]
  },
  {
   "cell_type": "markdown",
   "id": "d0cd3366-636f-4f22-9db3-cab4a0fa182c",
   "metadata": {},
   "source": [
    "#### Compute dip statistics for synthetic data"
   ]
  },
  {
   "cell_type": "code",
   "execution_count": 3,
   "id": "fbaa9b02-64ef-47d7-9085-6a2f1b543644",
   "metadata": {},
   "outputs": [],
   "source": [
    "n_clusters = [10, 20, 40]\n",
    "variance = [0.01, 0.03, 0.05, 0.07, 0.1, 0.3, 0.5, 0.7, 1.0]"
   ]
  },
  {
   "cell_type": "code",
   "execution_count": 4,
   "id": "c089278c-269e-484a-ac18-722f540bfcb7",
   "metadata": {},
   "outputs": [],
   "source": [
    "df_dip = pd.DataFrame(columns=['n_cluster', 'var', 'max_dip'])\n",
    "for n_c in n_clusters:\n",
    "\n",
    "    for var in variance:\n",
    "        latents = np.load(Path(data_path, f'gm_c{n_c}_var{var}_samples.npy'))\n",
    "\n",
    "        labels = np.load(Path(gmm_path, f'best_preds_nc{n_c}_var{var}.npy'))\n",
    "        cluster_means = np.load(Path(gmm_path, f'best_means_nc{n_c}_var{var}.npy'))\n",
    "\n",
    "        knn_dict = get_knn_dict(cluster_means, k=1)\n",
    "\n",
    "        dips = []\n",
    "        for k1 in knn_dict:\n",
    "            for k2 in knn_dict[k1]:\n",
    "                cluster1_proj, cluster2_proj = compute_projection(\n",
    "                    k1, k2, cluster_means, latents, labels\n",
    "                )\n",
    "                dip = diptest.dipstat(np.concatenate([cluster1_proj, cluster2_proj]))\n",
    "                dips.append(dip)\n",
    "\n",
    "        item = {\n",
    "            'n_cluster': [n_c],\n",
    "            'var': [var],\n",
    "            'max_dip': [max(dips)],\n",
    "        }\n",
    "\n",
    "        df_dip = pd.concat([df_dip, pd.DataFrame(item)])"
   ]
  },
  {
   "cell_type": "markdown",
   "id": "f81887c9-7990-4849-a988-5fd6f40e8e2c",
   "metadata": {},
   "source": [
    "#### Compute max. dip for neuronal data"
   ]
  },
  {
   "cell_type": "code",
   "execution_count": 5,
   "id": "fffcccf6-6701-4062-b433-7b09da70beee",
   "metadata": {},
   "outputs": [],
   "source": [
    "data_path = '../data/neuronal_data/'\n",
    "gmm_path = '../data/ari_neuronal/'\n",
    "n_clusters = 20"
   ]
  },
  {
   "cell_type": "code",
   "execution_count": 6,
   "id": "071df074-738b-4801-be93-8524791142b8",
   "metadata": {},
   "outputs": [],
   "source": [
    "df_neurons = pd.read_pickle(Path(data_path, 'df_neuron.pkl'))\n",
    "latents = np.stack(df_neurons.latent_emb.values)\n",
    "cluster_means = np.load(Path(gmm_path, f'best_means_nc{n_clusters}.npy'))\n",
    "predictions = np.load(Path(gmm_path, f'best_preds_nc{n_clusters}.npy'))\n",
    "\n",
    "knn_dict = get_knn_dict(cluster_means, k=1)\n",
    "\n",
    "dips = []\n",
    "for k1 in knn_dict:\n",
    "    for k2 in knn_dict[k1]:\n",
    "        cluster1_proj, cluster2_proj = compute_projection(\n",
    "            k1, k2, cluster_means, latents, predictions\n",
    "        )\n",
    "        dip = diptest.dipstat(np.concatenate([cluster1_proj, cluster2_proj]))\n",
    "        dips.append(dip)\n",
    "max_dip = max(dips)"
   ]
  },
  {
   "cell_type": "markdown",
   "id": "5b065a95-6a89-4f65-ad37-de1909a88cb2",
   "metadata": {},
   "source": [
    "#### Plot"
   ]
  },
  {
   "cell_type": "code",
   "execution_count": 7,
   "id": "32acb336-39f6-4bb6-a5cf-19df1f43a253",
   "metadata": {},
   "outputs": [
    {
     "data": {
      "image/png": "[encoded data removed]",
      "text/plain": [
       "<Figure size 500x400 with 1 Axes>"
      ]
     },
     "metadata": {},
     "output_type": "display_data"
    }
   ],
   "source": [
    "fig, ax = plt.subplots(1, 1, figsize=(5, 4))\n",
    "sns.lineplot(\n",
    "    data=df_dip[df_dip.n_cluster == 20],\n",
    "    y='max_dip',\n",
    "    x='var',\n",
    "    color='goldenrod',\n",
    "    label='Synthetic',\n",
    "    marker='o',\n",
    "    markersize=10,\n",
    "    ax=ax,\n",
    "    linewidth=4,\n",
    ")\n",
    "\n",
    "plt.plot(\n",
    "    [0, 1],\n",
    "    [max_dip, max_dip],\n",
    "    color='indianred',\n",
    "    linestyle='dashed',\n",
    "    label='Neuronal',\n",
    "    linewidth=4,\n",
    ")\n",
    "plt.legend()\n",
    "\n",
    "ax.set_yticks([0, 0.05, 0.1, 0.15, 0.2])\n",
    "ax.tick_params('y', labelbottom=True, width=2, labelsize=12)\n",
    "\n",
    "ax.set_xticks([0, 0.3, 0.5, 0.7, 1])\n",
    "ax.tick_params('x', labelbottom=True, width=2, labelsize=12)\n",
    "\n",
    "ax.set_ylabel('Max. dip', fontsize=12)\n",
    "ax.set_xlabel('Variance', fontsize=12)\n",
    "\n",
    "for axis in ['top', 'bottom', 'left', 'right']:\n",
    "    ax.spines[axis].set_linewidth(2)\n",
    "sns.despine(trim=1)\n",
    "\n",
    "# plt.savefig('figures/max_dip.pdf', bbox_inches='tight', transparent=True)"
   ]
  },
  {
   "cell_type": "code",
   "execution_count": null,
   "id": "510d0d5d-d20b-485c-9134-2923e966b2c6",
   "metadata": {},
   "outputs": [],
   "source": []
  }
 ],
 "metadata": {
  "kernelspec": {
   "display_name": "Python 3 (ipykernel)",
   "language": "python",
   "name": "python3"
  },
  "language_info": {
   "codemirror_mode": {
    "name": "ipython",
    "version": 3
   },
   "file_extension": ".py",
   "mimetype": "text/x-python",
   "name": "python",
   "nbconvert_exporter": "python",
   "pygments_lexer": "ipython3",
   "version": "3.10.8"
  }
 },
 "nbformat": 4,
 "nbformat_minor": 5
}
