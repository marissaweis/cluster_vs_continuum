{
 "cells": [
  {
   "cell_type": "code",
   "execution_count": 1,
   "id": "25d15e5c-d3fa-4d40-a941-962edf363afc",
   "metadata": {},
   "outputs": [],
   "source": [
    "import numpy as np\n",
    "import pickle\n",
    "import matplotlib.pylab as plt\n",
    "import seaborn as sns\n",
    "import colorcet as cc\n",
    "from pathlib import Path\n",
    "import sys\n",
    "\n",
    "sys.path.append('../')\n",
    "\n",
    "from visualization_utils import *\n",
    "from utils import *"
   ]
  },
  {
   "cell_type": "code",
   "execution_count": 2,
   "id": "929a497b-090f-4616-b7e3-b51970cf3dfe",
   "metadata": {},
   "outputs": [],
   "source": [
    "data_path = '../data/'\n",
    "savepath = 'figures/histograms_synthetic/'"
   ]
  },
  {
   "cell_type": "markdown",
   "id": "fd1d6267-0ba1-4406-bd93-c044ac219d9a",
   "metadata": {},
   "source": [
    "#### Plot pairwise 1D histograms"
   ]
  },
  {
   "cell_type": "code",
   "execution_count": 3,
   "id": "c1d9bd1e-42e9-41f3-9287-d7fa88dcc366",
   "metadata": {},
   "outputs": [],
   "source": [
    "n_clusters = [20]\n",
    "variance = [0.1, 0.3, 0.5]\n",
    "\n",
    "for n_c in n_clusters:\n",
    "    gt_means = np.load(Path(data_path, 'ari_neuronal', f'best_means_nc{n_c}.npy'))\n",
    "\n",
    "    for var in variance:\n",
    "        latents = np.load(\n",
    "            Path(data_path, 'synthetic_data', f'gm_c{n_c}_var{var}_samples.npy')\n",
    "        )\n",
    "        labels = np.load(\n",
    "            Path(data_path, 'synthetic_data', f'gm_c{n_c}_var{var}_labels.npy')\n",
    "        )\n",
    "\n",
    "        predictions = np.load(\n",
    "            Path(data_path, 'ari_synthetic', f'best_preds_nc{n_c}_var{var}.npy')\n",
    "        )\n",
    "        means = np.load(\n",
    "            Path(data_path, 'ari_synthetic', f'best_means_nc{n_c}_var{var}.npy')\n",
    "        )\n",
    "\n",
    "        lsa_dict, lsa_dict_inv = remap_cluster_ids(gt_means, means)\n",
    "\n",
    "        labels = np.array([lsa_dict[p] for p in predictions])\n",
    "        cluster_means = [means[lsa_dict_inv[i]] for i in range(n_c)]\n",
    "\n",
    "        knn_dict = get_knn_dict(cluster_means, k=2)\n",
    "\n",
    "        cluster1 = 12\n",
    "        plt_projection_hists(\n",
    "            cluster1,\n",
    "            cluster_means,\n",
    "            latents,\n",
    "            labels,\n",
    "            knn_dict,\n",
    "            color_dict,\n",
    "            savepath=Path(savepath, f'cluster_{cluster1}_n{n_c}_var{var}.pdf'),\n",
    "        )\n",
    "        plot_cdf(\n",
    "            cluster1,\n",
    "            cluster_means,\n",
    "            latents,\n",
    "            labels,\n",
    "            knn_dict,\n",
    "            color_dict,\n",
    "            savepath=Path(savepath, f'cluster_{cluster1}_n{n_c}_var{var}_cdf.pdf'),\n",
    "        )\n",
    "\n",
    "        cluster1 = 1\n",
    "        plt_projection_hists(\n",
    "            cluster1,\n",
    "            cluster_means,\n",
    "            latents,\n",
    "            labels,\n",
    "            knn_dict,\n",
    "            color_dict,\n",
    "            savepath=Path(savepath, f'cluster_{cluster1}_n{n_c}_var{var}.pdf'),\n",
    "        )\n",
    "        plot_cdf(\n",
    "            cluster1,\n",
    "            cluster_means,\n",
    "            latents,\n",
    "            labels,\n",
    "            knn_dict,\n",
    "            color_dict,\n",
    "            savepath=Path(savepath, f'cluster_{cluster1}_n{n_c}_var{var}_cdf.pdf'),\n",
    "        )"
   ]
  },
  {
   "cell_type": "code",
   "execution_count": null,
   "id": "386911f6-9577-4de2-9ee4-be6b6404de7e",
   "metadata": {},
   "outputs": [],
   "source": []
  }
 ],
 "metadata": {
  "kernelspec": {
   "display_name": "Python 3 (ipykernel)",
   "language": "python",
   "name": "python3"
  },
  "language_info": {
   "codemirror_mode": {
    "name": "ipython",
    "version": 3
   },
   "file_extension": ".py",
   "mimetype": "text/x-python",
   "name": "python",
   "nbconvert_exporter": "python",
   "pygments_lexer": "ipython3",
   "version": "3.10.8"
  }
 },
 "nbformat": 4,
 "nbformat_minor": 5
}
