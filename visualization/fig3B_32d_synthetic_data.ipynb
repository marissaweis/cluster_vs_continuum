{
 "cells": [
  {
   "cell_type": "code",
   "execution_count": 20,
   "id": "25d15e5c-d3fa-4d40-a941-962edf363afc",
   "metadata": {},
   "outputs": [],
   "source": [
    "import numpy as np\n",
    "import pickle\n",
    "import matplotlib.pylab as plt\n",
    "import seaborn as sns\n",
    "import colorcet as cc\n",
    "from pathlib import Path\n",
    "from openTSNE import TSNE\n",
    "from tqdm import tqdm\n",
    "import sys\n",
    "\n",
    "sys.path.append('../')\n",
    "\n",
    "from visualization_utils import remap_cluster_ids, color_dict"
   ]
  },
  {
   "cell_type": "code",
   "execution_count": 21,
   "id": "929a497b-090f-4616-b7e3-b51970cf3dfe",
   "metadata": {},
   "outputs": [],
   "source": [
    "data_path = '../data/synthetic_data/'\n",
    "prediction_path = '../data/ari_synthetic/'\n",
    "gt_path = '../data/ari_neuronal/'\n",
    "figure_path = 'figures/synthetic/'"
   ]
  },
  {
   "cell_type": "code",
   "execution_count": 22,
   "id": "12772a50-890b-4610-86ad-012a16930935",
   "metadata": {},
   "outputs": [],
   "source": [
    "n = 32_571\n",
    "variances = np.array([0.05, 0.1, 0.3, 0.5, 1.0])\n",
    "n_clusters = [10, 20, 40]"
   ]
  },
  {
   "cell_type": "markdown",
   "id": "e4d9d389-d23b-481a-acb4-fe1170c301a9",
   "metadata": {},
   "source": [
    "#### Plot t-SNE embeddings of synthetic datasets"
   ]
  },
  {
   "cell_type": "code",
   "execution_count": null,
   "id": "0d90df78-5577-413f-b345-1f5a9c3126b8",
   "metadata": {},
   "outputs": [],
   "source": [
    "for n_c in tqdm(n_clusters):\n",
    "    palette = sns.color_palette(cc.glasbey, n_colors=n_c)\n",
    "    color_palette = color_dict if n_c == 20 else palette\n",
    "\n",
    "    for var in tqdm(variances):\n",
    "        # Load synthetic data\n",
    "        sample = np.load(Path(data_path, f'gm_c{n_c}_var{var}_samples.npy'))\n",
    "        predictions = np.load(Path(prediction_path, f'best_preds_nc{n_c}_var{var}.npy'))\n",
    "        means = np.load(Path(prediction_path, f'best_means_nc{n_c}_var{var}.npy'))\n",
    "\n",
    "        # Remap cluster IDs such that colors in plots align.\n",
    "        gt_means = np.load(Path(gt_path, f'best_means_nc{n_c}.npy'))\n",
    "        lsa_dict, _ = remap_cluster_ids(gt_means, means)\n",
    "        predictions_remapped = np.array([lsa_dict[p] for p in predictions])\n",
    "\n",
    "        # Run t-SNE.\n",
    "        tsne = TSNE(\n",
    "            perplexity=300,\n",
    "            metric='cosine',\n",
    "            n_jobs=8,\n",
    "            random_state=42,\n",
    "            verbose=False,\n",
    "        )\n",
    "        z = tsne.fit(sample)\n",
    "\n",
    "        # Plot t-SNE embeddings colored by GMM prediction.\n",
    "        fig, ax = plt.subplots(1, 1)\n",
    "        for i in range(n_c):\n",
    "            ax.scatter(\n",
    "                *z[predictions_remapped == i].T,\n",
    "                s=3,\n",
    "                color=color_palette[i],\n",
    "                alpha=0.4,\n",
    "                rasterized=True,\n",
    "            )\n",
    "        ax.axis('off')\n",
    "        fig.savefig(\n",
    "            Path(figure_path, f'gm_c{n_c}_var{var}_preds.png'),\n",
    "            dpi=300,\n",
    "            transparent=True,\n",
    "            bbox_inches='tight',\n",
    "        )\n",
    "        plt.close(fig)"
   ]
  },
  {
   "cell_type": "code",
   "execution_count": null,
   "id": "c7de4fff-565a-4d04-87a4-3e109a9b1da3",
   "metadata": {},
   "outputs": [],
   "source": []
  },
  {
   "cell_type": "code",
   "execution_count": null,
   "id": "b132717e-5844-4b79-b190-6ea1943181fb",
   "metadata": {},
   "outputs": [],
   "source": []
  }
 ],
 "metadata": {
  "kernelspec": {
   "display_name": "Python 3 (ipykernel)",
   "language": "python",
   "name": "python3"
  },
  "language_info": {
   "codemirror_mode": {
    "name": "ipython",
    "version": 3
   },
   "file_extension": ".py",
   "mimetype": "text/x-python",
   "name": "python",
   "nbconvert_exporter": "python",
   "pygments_lexer": "ipython3",
   "version": "3.10.8"
  }
 },
 "nbformat": 4,
 "nbformat_minor": 5
}
